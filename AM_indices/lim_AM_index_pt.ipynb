{
 "cells": [
  {
   "cell_type": "markdown",
   "id": "3e5c49d0",
   "metadata": {},
   "source": [
    "# Driver of LIM using PyTorch"
   ]
  },
  {
   "cell_type": "markdown",
   "id": "046801ac",
   "metadata": {},
   "source": [
    "## Import Modules"
   ]
  },
  {
   "cell_type": "code",
   "execution_count": 12,
   "id": "c7eda029",
   "metadata": {
    "tags": []
   },
   "outputs": [],
   "source": [
    "# import modules\n",
    "import math\n",
    "import numpy as np\n",
    "import os\n",
    "\n",
    "import matplotlib as mpl\n",
    "mpl.rc('image', cmap='jet')\n",
    "import matplotlib.pyplot as plt\n",
    "import matplotlib.dates as mdates\n",
    "# %matplotlib inline\n",
    "\n",
    "# from lim_mod_pt import LIM\n",
    "\n",
    "import torch\n",
    "gpu = 0\n",
    "device = torch.device('cuda:' + str(gpu) if torch.cuda.is_available() else 'cpu')"
   ]
  },
  {
   "cell_type": "markdown",
   "id": "07c698a1",
   "metadata": {},
   "source": [
    "## Data"
   ]
  },
  {
   "cell_type": "code",
   "execution_count": 13,
   "id": "339d0610",
   "metadata": {},
   "outputs": [
    {
     "name": "stdout",
     "output_type": "stream",
     "text": [
      "Reading from saved data ......\n",
      "Use pressure levels = [   1.    2.    3.    5.    7.   10.   20.   30.   50.   70.  100.  125.\n",
      "  150.  175.  200.  225.  250.  300.  350.  400.  450.  500.  550.  600.\n",
      "  650.  700.  750.  775.  800.  825.  850.  875.  900.  925.  950.  975.\n",
      " 1000.]\n",
      "\n",
      "t.shape = torch.Size([21535]), y.shape = torch.Size([21535, 37])\n"
     ]
    }
   ],
   "source": [
    "# data\n",
    "if False:\n",
    "    # red noise\n",
    "    from ode_AM_index_config import get_red_noise as get_data\n",
    "    gamma = [0.06]\n",
    "    true_t, true_y = get_data(gamma=gamma, data_size=10000)\n",
    "else:\n",
    "    # annular mode\n",
    "    from read_AM_index_mod import get_AM_index as get_data\n",
    "    t_np, y_np, p_np = get_data()\n",
    "\n",
    "t = torch.from_numpy(t_np)\n",
    "if y_np.ndim == 1:\n",
    "    y = torch.from_numpy(y_np)[:,None]\n",
    "else:\n",
    "    y = torch.from_numpy(y_np)\n",
    "\n",
    "print(f't.shape = {t.shape}, y.shape = {y.shape}')\n",
    "\n",
    "# test of the method for eigen decomposition\n",
    "# from lim_mod import test_eig_m\n",
    "# test_eig_m(y, 5)"
   ]
  },
  {
   "cell_type": "code",
   "execution_count": 14,
   "id": "f7c8ff82",
   "metadata": {},
   "outputs": [
    {
     "data": {
      "image/png": "[encoded data removed]",
      "text/plain": [
       "<Figure size 864x360 with 2 Axes>"
      ]
     },
     "metadata": {
      "needs_background": "light"
     },
     "output_type": "display_data"
    }
   ],
   "source": [
    "import torch.linalg as la\n",
    "\n",
    "rcond=1e-10\n",
    "\n",
    "#=============================================================\n",
    "# class LIM()\n",
    "# Linear Inverse Model\n",
    "#=============================================================\n",
    "class LIM():\n",
    "    def __init__(self, X, lag, method='eig2', verbose=False):\n",
    "        \"\"\"\n",
    "        POP analysis described in Penland (1989) \n",
    "        X(t, x): input data, where t is time, and x is space\n",
    "        lag: lag time used to compute Ct\n",
    "\n",
    "        The propagation matrix is calculated as\n",
    "        `Gt = Ct @ C0_inv`.\n",
    "\n",
    "        The eigenvector decomposition of the propagation matrix (using the function `eig_m`) is \n",
    "        `Gt @ vr = vr @ torch.diag(w)` or `Gt = vr @ torch.diag(w) @ vl.H`, \\\\\n",
    "        where vl and vr are biorthogonal bases, `vr @ vl.H = I`, and `vl.H @ vr = I`.\n",
    "\n",
    "        The projection of `x` in the eigenvector space is\n",
    "        `pc(t, eig) = (vl.H @ X.H).H = X @ vl`, \\\\\n",
    "        and the reconstruction in the physical space is\n",
    "        `X(t, x) = (vr @ pc.H).H = pc @ vr.H`.\n",
    "\n",
    "        method options:\n",
    "        eig1: solve vl and vr simulateneously by calling `eig` in scipy\n",
    "        eig2: solve vl and vr separately by calling `eig` twice\n",
    "        pinv: solve vr by calling `eig`, and then solve vl by calling `pinv`\n",
    "        \"\"\"\n",
    "\n",
    "        self.w, self.vl, self.vr, self.b, self.B = self.pop(X, lag, method=method, verbose=verbose)\n",
    "\n",
    "    def pop(self, X, lag, method='eig2', verbose=False):\n",
    "        data_size = len(X)\n",
    "        C0 = X.T @ X / data_size\n",
    "        Ct = X[lag:].T @ X[0:data_size-lag] / (data_size-lag)\n",
    "\n",
    "        C0_inv = la.pinv(C0)    # pseudo-inverse for a singular matrix\n",
    "        Gt = Ct @ C0_inv\n",
    "\n",
    "        w, vl, vr = eig_m(Gt, method=method, verbose=verbose)\n",
    "        b = torch.log(w)/lag\n",
    "        B = vr @ torch.diag(b) @ vl.conj().T\n",
    "        if verbose:\n",
    "            print(f\"POP e-folding timescales =\\n {-1/b.real}\")\n",
    "\n",
    "        return w, vl, vr, b, B\n",
    "\n",
    "    def forecast(self, X, lag):\n",
    "        \"\"\"\n",
    "        X(batch, x): batch of initial conditions\n",
    "        lag: time lags to be forecasted\n",
    "        return y(lag, batch, x): batch forecasts at time lag starting from X\n",
    "        \"\"\"\n",
    "        \n",
    "        y = torch.zeros((0, *X.shape))\n",
    "        for idx in range(len(lag)):\n",
    "            Gt = self.vr @ torch.diag(torch.exp(self.b * lag[idx])) @ self.vl.conj().T\n",
    "            Xt = (Gt @ X.T).T\n",
    "            y = torch.vstack((y, Xt[None, :]))\n",
    "        \n",
    "        return y.real\n",
    "\n",
    "#=============================================================\n",
    "# function eig_m()\n",
    "# modified version of eigenvector decomposition: ``w, vl, vr = eig_m(a)``\n",
    "#=============================================================\n",
    "def eig_m(a, method='eig2', verbose=False):\n",
    "    \"\"\"\n",
    "    modified version of eigenvector decomposition:\n",
    "    ``w, vl, vr = eig_m(a)``\n",
    "\n",
    "    Factorizes the square matrix `a` into the normalized eigenvector matrix ``vr``, its inverse ``vl.H``, and\n",
    "    a 1-D array ``w`` of eigenvalues: \\\\\n",
    "    ``a @ vr = vr @ torch.diag(w)`` or ``a = vr @ torch.diag(w) @ vl.H`` \\\\\n",
    "    where ``vl`` and ``vr`` are biorthogonal bases, `vr @ vl.H = I`, and `vl.H @ vr = I`.\n",
    "\n",
    "    method options:\n",
    "    eig1: solve vl and vr simulateneously by calling `eig` in scipy\n",
    "    eig2: solve vl and vr separately by calling `eig` twice\n",
    "    pinv: solve vr by calling `eig`, and then solve vl by calling `pinv`\n",
    "    \"\"\"\n",
    "\n",
    "    # function to sort eigenvectors v by the decending order of eigenvalues w, with the option to sort by w.congj()\n",
    "    def eig_sort(w, v, sort_by_w=True):\n",
    "        w_np = w.numpy()\n",
    "        if sort_by_w:\n",
    "            idx_w_sort_np = w_np.argsort()[::-1]\n",
    "        else:\n",
    "            idx_w_sort_np = w_np.conj().argsort()[::-1]    # sort by w.conj()\n",
    "        idx_w_sort = torch.from_numpy(idx_w_sort_np.copy())\n",
    "\n",
    "        w_sort = torch.zeros_like(w)\n",
    "        v_sort = torch.zeros_like(v)\n",
    "        for idx, idx_sort in enumerate(idx_w_sort):\n",
    "            w_sort[idx] = w[idx_sort]\n",
    "            v_sort[:, idx] = v[:, idx_sort]\n",
    "\n",
    "        return w_sort, v_sort\n",
    "\n",
    "    # perform eigendecomposition\n",
    "    if method == 'eig1':\n",
    "        w1, vl1, vr1 = la.eig(a, left=True)\n",
    "        w, vr = eig_sort(w1, vr1)\n",
    "        _, vl = eig_sort(w1, vl1)\n",
    "    \n",
    "    elif method == 'eig2':\n",
    "        w1, vr1 = la.eig(a)\n",
    "        w, vr = eig_sort(w1, vr1)\n",
    "\n",
    "        w2, vl2 = la.eig(a.conj().T)\n",
    "        _, vl = eig_sort(w2, vl2, sort_by_w=False)\n",
    "    \n",
    "    elif method == 'pinv':\n",
    "        w1, vr1 = la.eig(a)\n",
    "        w, vr = eig_sort(w1, vr1)\n",
    "\n",
    "        vl = la.pinv(vr).conj().T\n",
    "    \n",
    "    else:\n",
    "        raise Exception('The method for eigenvector decomposition is not specified!')\n",
    "\n",
    "    # form a biorthogonal system\n",
    "    # note the transpose operator (.T) in python differs from the operator (') in matlab for a complex\n",
    "    vlH_vr = vl.conj().T @ vr\n",
    "    for idx in range(len(w)):\n",
    "        vl[:, idx] = vl[:, idx]/(vlH_vr[idx, idx].conj())\n",
    "\n",
    "    if verbose:\n",
    "        # To ensure the biorthogonality, vr is normalized, but vl is not normalized in the modified version \n",
    "        vrH_vr = vr.conj().T @ vr\n",
    "        print(f\"diagonal(vrH_vr)=\\n{torch.diagonal(vrH_vr).real}\")\n",
    "\n",
    "        vlH_c = vl.conj().T @ vr @ vl.conj().T\n",
    "        print(f\"norm(vlH - vlH @ vr @vlH) = {la.norm(vl.conj().T-vlH_c)}\")\n",
    "\n",
    "        vr_c = vr @ vl.conj().T @ vr\n",
    "        print(f\"norm(vr - vr @ vlH @vr) = {la.norm(vr-vr_c)}\")\n",
    "\n",
    "        a_c = vr @ torch.diag(w) @ vl.conj().T\n",
    "        print(f\"norm(a - vr @ diag(w) @vlH) = {la.norm(a-a_c)}\")\n",
    "\n",
    "        fig = plt.figure(figsize=(12,5))\n",
    "        ax = fig.add_subplot(1, 2, 1)\n",
    "        plt.contourf(a, cmap='jet')\n",
    "        plt.title('a')\n",
    "        plt.colorbar()\n",
    "\n",
    "        ax = fig.add_subplot(1, 2, 2)\n",
    "        plt.contourf((a-a_c).real, cmap='jet')\n",
    "        plt.title('a - vr @ diag(w) @vlH')\n",
    "        plt.colorbar()\n",
    "        \n",
    "    return w, vl, vr\n",
    "\n",
    "def cal_Gt(X, lag, verbose=False):\n",
    "        data_size = len(X)\n",
    "        C0 = X.T @ X / data_size\n",
    "        Ct = X[lag:].T @ X[0:data_size-lag] / (data_size-lag)\n",
    "\n",
    "        C0_inv = la.pinv(C0, rcond=rcond)    # pseudo-inverse for a singular matrix\n",
    "        Gt = Ct @ C0_inv\n",
    "\n",
    "        fig = plt.figure(figsize=(12,5))\n",
    "        ax = fig.add_subplot(1, 2, 1)\n",
    "        plt.contourf(C0_inv, cmap='jet')\n",
    "        plt.title('Gt')\n",
    "        plt.colorbar()\n",
    "        return Gt\n",
    "\n",
    "def test_eig_m(X, lag):\n",
    "        Gt = cal_Gt(X, lag) \n",
    "        # w1, vl1, vr1 = eig_m(Gt, method='eig1', verbose=True) # not available in PyTorch\n",
    "        w2, vl2, vr2 = eig_m(Gt, method='eig2', verbose=True)\n",
    "        w3, vl3, vr3 = eig_m(Gt, method='pinv', verbose=True)\n",
    "\n",
    "# test_eig_m(y, 5)\n",
    "Gt = cal_Gt(y, 5, verbose=True)"
   ]
  },
  {
   "cell_type": "markdown",
   "id": "df0597d2",
   "metadata": {},
   "source": [
    "## Model"
   ]
  },
  {
   "cell_type": "code",
   "execution_count": null,
   "id": "a9728337",
   "metadata": {},
   "outputs": [],
   "source": [
    "lag = 5\n",
    "model = LIM(y, lag=lag, method='eig2', verbose=True)\n",
    "\n",
    "lag_time = 90\n",
    "yf = model.forecast(y[:-lag_time], t[:lag_time+1])\n",
    "print(f\"\\ny(t, x) = {y.shape}\")\n",
    "print(f\"yf(lag, batch, x) = {yf.shape}\")"
   ]
  },
  {
   "cell_type": "markdown",
   "id": "aed0f31e",
   "metadata": {},
   "source": [
    "## Plot the linear operator "
   ]
  },
  {
   "cell_type": "code",
   "execution_count": null,
   "id": "28c4814f",
   "metadata": {},
   "outputs": [],
   "source": [
    "val_time = 30\n",
    "Ct = y[val_time:].T @ y[:-val_time] / (len(y)-val_time)\n",
    "Ctf = yf[val_time,:,:].T @ yf[0,:,:] / yf.shape[1]\n",
    "print(f\"Ct = {Ct.shape}\")\n",
    "print(f\"Ctf = {Ctf.shape}\")\n",
    "\n",
    "fig = plt.figure(figsize=(12,10))\n",
    "cmax = 1\n",
    "ax = fig.add_subplot(3,2,1)\n",
    "plt.contourf(model.B.real, np.linspace(-cmax, cmax, 21))\n",
    "plt.title('B (real)')\n",
    "plt.colorbar()\n",
    "\n",
    "ax = fig.add_subplot(3,2,2)\n",
    "plt.contourf(model.B.imag)\n",
    "plt.title('B (imag)')\n",
    "plt.colorbar()\n",
    "\n",
    "ax = fig.add_subplot(3,2,3)\n",
    "plt.plot(model.vr.real[:,:2])\n",
    "plt.title('vr')\n",
    "\n",
    "ax = fig.add_subplot(3,2,4)\n",
    "plt.plot(model.vl.real[:,:2])\n",
    "plt.title('vl')\n",
    "\n",
    "cmax = 0.5\n",
    "ax = fig.add_subplot(3,2,5)\n",
    "plt.contourf(Ct, np.linspace(-cmax, cmax, 21))\n",
    "plt.title('Cov')\n",
    "plt.colorbar()\n",
    "\n",
    "ax = fig.add_subplot(3,2,6)\n",
    "plt.contourf(Ctf, np.linspace(-cmax, cmax, 21))\n",
    "plt.title('Cov (forecast)')\n",
    "plt.colorbar()"
   ]
  },
  {
   "cell_type": "markdown",
   "id": "d0b616b4",
   "metadata": {},
   "source": [
    "## Plot autocovariance"
   ]
  },
  {
   "cell_type": "code",
   "execution_count": null,
   "id": "c5d7289e",
   "metadata": {},
   "outputs": [],
   "source": [
    "from plot_AM_index_mod import plot_cov\n",
    "\n",
    "k = np.isin(p, 10).nonzero()[0][0]\n",
    "plot_cov(y, yf=yf, k=k, lag_time=lag_time)\n"
   ]
  },
  {
   "cell_type": "markdown",
   "id": "ec482738",
   "metadata": {},
   "source": [
    "## Plot lagged covariance"
   ]
  },
  {
   "cell_type": "code",
   "execution_count": null,
   "id": "4be3abc4",
   "metadata": {},
   "outputs": [],
   "source": [
    "from plot_AM_index_mod import plot_lag_reg\n",
    "\n",
    "plot_lag_reg(y, p, yf)"
   ]
  },
  {
   "cell_type": "markdown",
   "id": "d45cccdb",
   "metadata": {},
   "source": [
    "## Make composite for strong and weak vortex events\n"
   ]
  },
  {
   "cell_type": "code",
   "execution_count": null,
   "id": "12635bb6",
   "metadata": {},
   "outputs": [],
   "source": [
    "from plot_AM_index_mod import plot_event\n",
    "\n",
    "plot_event(y, p, yf=yf, lag_time=lag_time)"
   ]
  }
 ],
 "metadata": {
  "interpreter": {
   "hash": "b0e2cbe71e58cd52dedd30a5465da0553d5fceb2cc289f9c619d799ad42a2262"
  },
  "kernelspec": {
   "display_name": "Python 3.8.10 64-bit ('base': conda)",
   "language": "python",
   "name": "python3"
  },
  "language_info": {
   "codemirror_mode": {
    "name": "ipython",
    "version": 3
   },
   "file_extension": ".py",
   "mimetype": "text/x-python",
   "name": "python",
   "nbconvert_exporter": "python",
   "pygments_lexer": "ipython3",
   "version": "3.8.12"
  },
  "toc-showcode": false,
  "toc-showmarkdowntxt": false,
  "toc-showtags": false
 },
 "nbformat": 4,
 "nbformat_minor": 5
}
