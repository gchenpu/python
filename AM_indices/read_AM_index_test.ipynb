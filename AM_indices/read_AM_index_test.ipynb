{
 "cells": [
  {
   "cell_type": "markdown",
   "metadata": {},
   "source": [
    "# Plot the Annular mode indices in the Reanalysis\n"
   ]
  },
  {
   "cell_type": "markdown",
   "metadata": {},
   "source": [
    "## Import modules\n"
   ]
  },
  {
   "cell_type": "code",
   "execution_count": 1,
   "metadata": {},
   "outputs": [],
   "source": [
    "import numpy as np\n",
    "import scipy as sp\n",
    "import pandas as pd\n",
    "import os\n",
    "\n",
    "import calendar\n",
    "import datetime as dt\n",
    "\n",
    "import matplotlib as mpl\n",
    "import matplotlib.pyplot as plt\n",
    "import matplotlib.dates as mdates\n",
    "# %matplotlib inline\n",
    "\n",
    "from read_AM_index_mod import Reanalysis"
   ]
  },
  {
   "cell_type": "markdown",
   "metadata": {},
   "source": [
    "## Plot the AM index on a pressure level for a year"
   ]
  },
  {
   "cell_type": "code",
   "execution_count": null,
   "metadata": {},
   "outputs": [],
   "source": [
    "def plot_1year(data, year=2007, p_level=10, save_fig=False):\n",
    "        time = np.linspace(1.0, 365, 365)\n",
    "        yi = year - data.year_start  # python array starts from zero!\n",
    "        ki = np.isin(data.level, p_level).nonzero()[0]\n",
    "        ysize = 365\n",
    "\n",
    "        fig = plt.figure(figsize=(10,3)) # size is optional\n",
    "        ax1 = fig.add_subplot(1,1,1)\n",
    "        ax1.plot(time, data.NAM[yi*ysize:(yi+1)*ysize, ki], 'b-', label='NAM')\n",
    "        ax1.plot(time, data.SAM[yi*ysize:(yi+1)*ysize, ki], 'r-', label='SAM')\n",
    "        legend = ax1.legend(loc='upper center', fontsize=\"x-large\", ncol=3)\n",
    "        ax1.set_xticks(np.linspace(60, 360, 6))\n",
    "        ax1.set_ylabel('SD')\n",
    "        ax1.set_title('Annular mode indices')\n",
    "        ax1.axis([1, 365, -4, 4])\n",
    "        #ax1.axhline(y=0, color='k', linestyle='--')\n",
    "        ax1.grid()\n",
    "\n",
    "        if save_fig:\n",
    "            plt.savefig('Figs/AM_indices.png', transparent=True)\n",
    "\n",
    "# test of removing harmoincs greater than `annual_cycle_fft` in D1\n",
    "D0 = Reanalysis(name_dir='jra_55', year_start=1958, year_end=2016, name='JRA55', \\\n",
    "        annual_cycle_fft=0, running_mean=0, save_index=True)\n",
    "D1 = Reanalysis(name_dir='jra_55', year_start=1958, year_end=2016, name='JRA55', \\\n",
    "        annual_cycle_fft=4, running_mean=0, save_index=True)\n",
    "for D in [D0, D1]:\n",
    "    D.init_data()\n",
    "\n",
    "plot_1year(D0, year=2007, p_level=10, save_fig=False)\n",
    "plot_1year(D1, year=2007, p_level=10, save_fig=False)"
   ]
  },
  {
   "cell_type": "markdown",
   "metadata": {},
   "source": [
    "## Plot the AM index on three pressure levels for two years"
   ]
  },
  {
   "cell_type": "code",
   "execution_count": null,
   "metadata": {},
   "outputs": [],
   "source": [
    "def plot_2year(data, year=2006, p_level=[10, 100, 1000], save_fig=False):\n",
    "        \n",
    "        d0 = pd.Timestamp(year, 1, 1)\n",
    "        d_start = pd.Timestamp(year, 7, 1)\n",
    "        d_end = pd.Timestamp(year+2, 7, 1)\n",
    "        t = np.linspace(d_start.value, d_end.value, ((d_end-d_start).days+1))\n",
    "        t = pd.to_datetime(t)\n",
    "        time = mdates.date2num(t)\n",
    "\n",
    "        yi = year-data.year_start  # python array starts from zero!\n",
    "        kk = np.isin(data.level, p_level).nonzero()[0]\n",
    "\n",
    "        fig = plt.figure(figsize=(10,9)) # size is optional\n",
    "        for ii in range(1,4):\n",
    "            ax1 = fig.add_subplot(3,1,ii)\n",
    "            ax1.plot(time, data.NAM[(yi*365+(d_start-d0).days):(yi*365+(d_end-d0).days+1), kk[ii-1]], 'b-', label='NAM')\n",
    "            #legend = ax1.legend(loc='upper center', fontsize=\"x-large\", ncol=3)\n",
    "            ax1.set_ylabel('SD')\n",
    "            ax1.set_title(str(p_level[ii-1]) +' hPa')\n",
    "            ax1.axis([time[0], time[-1], -2.5, 2.5])\n",
    "            #ax1.axhline(y=0, color='k', linestyle='--')\n",
    "            ax1.grid()\n",
    "            ax1.set_xticks(mpl.dates.date2num([dt.date(year, 7, 1),\n",
    "                                               dt.date(year+1, 1, 1), dt.date(year+1, 7, 1),\n",
    "                                               dt.date(year+2, 1, 1), dt.date(year+2, 7, 1)\n",
    "                                              ]))\n",
    "            plt.gca().xaxis.set_major_formatter(mdates.DateFormatter('%Y-%m-%d'))\n",
    "            #plt.gcf().autofmt_xdate()\n",
    "            \n",
    "        if save_fig:\n",
    "            plt.savefig('Figs/AM_indices2.png', transparent=True)\n",
    "\n",
    "\n",
    "D1 = Reanalysis(name_dir='jra_55', year_start=1958, year_end=2016, name='JRA55', \\\n",
    "        annual_cycle_fft=4, running_mean=0, save_index=True)\n",
    "D1.init_data()\n",
    "\n",
    "plot_2year(D1, year=2006, p_level=[10, 100, 1000], save_fig=False)"
   ]
  },
  {
   "cell_type": "markdown",
   "metadata": {},
   "source": [
    "## Compare the AM index with fft_filtering, and running mean"
   ]
  },
  {
   "cell_type": "code",
   "execution_count": null,
   "metadata": {},
   "outputs": [],
   "source": [
    "D1 = Reanalysis(name_dir='jra_55', year_start=1958, year_end=2016, name='JRA55', \\\n",
    "        annual_cycle_fft=0, running_mean=0, save_index=True)\n",
    "D2 = Reanalysis(name_dir='jra_55', year_start=1958, year_end=2016, name='JRA55', \\\n",
    "        annual_cycle_fft=4, running_mean=0, save_index=True)\n",
    "for D in [D1, D2]:\n",
    "    D.init_data()\n",
    "\n",
    "k = 5\n",
    "year = 2007\n",
    "yi = year - D1.year_start\n",
    "time1 = np.linspace(1.0, 365, 365)\n",
    "time2 = np.linspace(1.0, 365, 365)\n",
    "\n",
    "fig = plt.figure(figsize=(10,6)) # size is optional\n",
    "ax1 = fig.add_subplot(2,1,1)\n",
    "ax1.plot(time1, D1.NAM[yi*365:(yi+1)*365, k], 'r', label='D1')\n",
    "ax1.plot(time2, D2.NAM[yi*365:(yi+1)*365, k], 'b--', label='D2')\n",
    "legend = ax1.legend(loc='upper center', fontsize=\"x-large\", ncol=2)\n",
    "ax1.axis([1, 365, -4, 4])\n",
    "ax1.set_title('NAM')\n",
    "ax1.grid()\n",
    "\n",
    "ax1 = fig.add_subplot(2,1,2)\n",
    "ax1.plot(time1, D1.SAM[yi*365:(yi+1)*365, k], 'r', label='D1')\n",
    "ax1.plot(time2, D2.SAM[yi*365:(yi+1)*365, k], 'b--', label='D2')\n",
    "legend = ax1.legend(loc='upper center', fontsize=\"x-large\", ncol=2)\n",
    "ax1.axis([1, 365, -4, 4])\n",
    "ax1.set_title('SAM')\n",
    "ax1.grid()"
   ]
  },
  {
   "cell_type": "markdown",
   "metadata": {},
   "source": [
    "## Plot the covariance function"
   ]
  },
  {
   "cell_type": "code",
   "execution_count": null,
   "metadata": {},
   "outputs": [],
   "source": [
    "from AM_plot_mod import plot_cov\n",
    "\n",
    "D1 = Reanalysis(name_dir='jra_55', year_start=1958, year_end=2016, name='JRA55', \\\n",
    "        annual_cycle_fft=4, running_mean=0, save_index=True)\n",
    "D1.init_data()\n",
    "\n",
    "y = D1.NAM.data  # remove the mask in NAM\n",
    "plot_cov(y)\n",
    "plt.gca().set_title('all levels')\n",
    "\n",
    "k = np.isin(D1.level, 500).nonzero()[0][0]\n",
    "plot_cov(y[:, k][:, None])\n",
    "plt.gca().set_title(f\"p={D1.level[k]:.0f} hPa\")"
   ]
  },
  {
   "cell_type": "markdown",
   "metadata": {},
   "source": [
    "## Plot lagged regression\n"
   ]
  },
  {
   "cell_type": "code",
   "execution_count": null,
   "metadata": {},
   "outputs": [],
   "source": [
    "from AM_plot_mod import plot_lag_reg\n",
    "\n",
    "D1 = Reanalysis(name_dir='jra_55', year_start=1958, year_end=2016, name='JRA55', \\\n",
    "        annual_cycle_fft=4, running_mean=0, save_index=True)\n",
    "D1.init_data()\n",
    "\n",
    "y = D1.NAM.data\n",
    "p = D1.level\n",
    "plot_lag_reg(y, p)\n"
   ]
  },
  {
   "cell_type": "markdown",
   "metadata": {},
   "source": [
    "## Make composite for strong and weak vortex events\n"
   ]
  },
  {
   "cell_type": "code",
   "execution_count": null,
   "metadata": {},
   "outputs": [],
   "source": [
    "from AM_plot_mod import plot_event\n",
    "\n",
    "D1 = Reanalysis(name_dir='jra_55', year_start=1958, year_end=2016, name='JRA55', \\\n",
    "        annual_cycle_fft=4, running_mean=0, save_index=True)\n",
    "D1.init_data()\n",
    "\n",
    "y = D1.NAM.data\n",
    "p = D1.level\n",
    "plot_event(y, p, lag_time=90)"
   ]
  },
  {
   "cell_type": "code",
   "execution_count": null,
   "metadata": {},
   "outputs": [],
   "source": []
  }
 ],
 "metadata": {
  "interpreter": {
   "hash": "b0e2cbe71e58cd52dedd30a5465da0553d5fceb2cc289f9c619d799ad42a2262"
  },
  "kernelspec": {
   "display_name": "Python 3.8.10 64-bit ('base': conda)",
   "name": "python3"
  },
  "language_info": {
   "codemirror_mode": {
    "name": "ipython",
    "version": 3
   },
   "file_extension": ".py",
   "mimetype": "text/x-python",
   "name": "python",
   "nbconvert_exporter": "python",
   "pygments_lexer": "ipython3",
   "version": "3.8.13"
  }
 },
 "nbformat": 4,
 "nbformat_minor": 4
}
